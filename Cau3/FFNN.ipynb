{
  "cells": [
    {
      "cell_type": "markdown",
      "metadata": {
        "id": "QX6phCwI_oyh"
      },
      "source": [
        "* MSV_HoVaTen:\n",
        "521H0501_Phan Minh Hoàng,\n",
        "521H0398_Lê Nguyễn Viết Hiệp,\n",
        "521H0276_Trang Sĩ Nam\n",
        "\n"
      ]
    },
    {
      "cell_type": "code",
      "execution_count": 1649,
      "metadata": {
        "id": "turTqsb3_oyr"
      },
      "outputs": [],
      "source": [
        "import pandas as pd\n",
        "import numpy as np\n",
        "import matplotlib.pyplot as plt\n",
        "import seaborn as sns"
      ]
    },
    {
      "cell_type": "code",
      "execution_count": 1650,
      "metadata": {
        "id": "3Q5uCUTE_oyr"
      },
      "outputs": [],
      "source": [
        "data = pd.read_csv('bike_buyers.csv')"
      ]
    },
    {
      "cell_type": "code",
      "execution_count": 1651,
      "metadata": {
        "id": "aCO53TRW_oys"
      },
      "outputs": [],
      "source": [
        "data = data.dropna()"
      ]
    },
    {
      "cell_type": "code",
      "execution_count": null,
      "metadata": {
        "id": "XpIu67r5_oyt"
      },
      "outputs": [],
      "source": [
        "data.duplicated().value_counts()"
      ]
    },
    {
      "cell_type": "code",
      "execution_count": 1653,
      "metadata": {
        "id": "xl8bjEBm_oyt"
      },
      "outputs": [],
      "source": [
        "data = data.drop_duplicates()"
      ]
    },
    {
      "cell_type": "markdown",
      "metadata": {
        "id": "UJdug-4P_oyt"
      },
      "source": [
        "* Transformation"
      ]
    },
    {
      "cell_type": "code",
      "execution_count": 1654,
      "metadata": {
        "id": "mALRkEv7_oyt"
      },
      "outputs": [],
      "source": [
        "# Tranform data\n",
        "from sklearn.preprocessing import LabelEncoder\n",
        "\n",
        "types = data.dtypes\n",
        "names = list(data.columns)\n",
        "\n",
        "le = LabelEncoder()\n",
        "for i in range(len(types)):\n",
        "    if types.iloc[i]=='object':\n",
        "        le.fit_transform(data[names[i]])\n",
        "        data[names[i]] = le.transform(data[names[i]])"
      ]
    },
    {
      "cell_type": "markdown",
      "metadata": {
        "id": "qozO8OPx_oyt"
      },
      "source": [
        "* Normalization\n"
      ]
    },
    {
      "cell_type": "code",
      "execution_count": 1655,
      "metadata": {
        "id": "jrS5bwzK_oyu"
      },
      "outputs": [],
      "source": [
        "from sklearn.preprocessing import MinMaxScaler\n",
        "features = data.drop(['Purchased Bike'], axis=1)\n",
        "\n",
        "scaler = MinMaxScaler()\n",
        "model= scaler.fit(features)\n",
        "scaled_data= pd.DataFrame(model.transform(features))"
      ]
    },
    {
      "cell_type": "markdown",
      "metadata": {
        "id": "bX8rCgiV_oyu"
      },
      "source": [
        "* Feature Selection"
      ]
    },
    {
      "cell_type": "code",
      "execution_count": 1656,
      "metadata": {
        "id": "9s6Ads7T_oyu"
      },
      "outputs": [],
      "source": [
        "# split data\n",
        "X = scaled_data\n",
        "y = data['Purchased Bike']"
      ]
    },
    {
      "cell_type": "code",
      "execution_count": null,
      "metadata": {
        "id": "JXPSWHtY_oyu"
      },
      "outputs": [],
      "source": [
        "plt.figure(figsize=(20, 10))\n",
        "sns.heatmap(data.corr(), annot=True)"
      ]
    },
    {
      "cell_type": "code",
      "execution_count": 1658,
      "metadata": {
        "id": "M2up_VQ2_oyv"
      },
      "outputs": [],
      "source": [
        "data = data.drop(['ID'], axis=1)"
      ]
    },
    {
      "cell_type": "markdown",
      "metadata": {
        "id": "Q5CN241M_oyv"
      },
      "source": [
        "* FFNN"
      ]
    },
    {
      "cell_type": "code",
      "execution_count": 1659,
      "metadata": {
        "id": "KKwldFd5_oyv"
      },
      "outputs": [],
      "source": [
        "from sklearn.model_selection import train_test_split\n",
        "from sklearn.metrics import accuracy_score, precision_score, recall_score, f1_score\n",
        "from sklearn.metrics import confusion_matrix, ConfusionMatrixDisplay\n",
        "from sklearn.metrics import classification_report\n",
        "import tensorflow as tf\n",
        "from tensorflow.keras.models import Sequential\n",
        "from tensorflow.keras.layers import Dense, Flatten, Dropout\n",
        "\n",
        "X_train, X_test, Y_train, Y_test = train_test_split(X, y, random_state = 42, test_size=0.2)"
      ]
    },
    {
      "cell_type": "code",
      "execution_count": 1660,
      "metadata": {
        "id": "t5ydOLyz_oyv"
      },
      "outputs": [],
      "source": [
        "model = tf.keras.models.Sequential()\n",
        "model.add(Dense(512, input_dim=X_train.shape[1], activation='tanh'))\n",
        "model.add(Dropout(0.2))  # Add Dropout after the first layer\n",
        "model.add(Dense(256, activation='tanh'))\n",
        "model.add(Dense(128, activation='tanh'))\n",
        "model.add(Dense(64, activation='tanh'))\n",
        "model.add(Dense(32, activation='tanh'))\n",
        "model.add(Dense(16, activation='tanh'))\n",
        "model.add(Dense(8, activation='tanh'))\n",
        "model.add(Dense(4, activation='tanh'))\n",
        "model.add(Dense(2, activation='tanh'))\n",
        "model.add(Dropout(0.2))\n",
        "model.add(Dense(1, activation='sigmoid'))\n",
        "\n",
        "model.compile(loss='binary_crossentropy', optimizer='rmsprop', metrics=['accuracy'])"
      ]
    },
    {
      "cell_type": "markdown",
      "source": [
        "Sử dụng EarlyStopping"
      ],
      "metadata": {
        "id": "ySb1kikKHrjL"
      }
    },
    {
      "cell_type": "code",
      "execution_count": null,
      "metadata": {
        "id": "HI4k_IA3_oyv"
      },
      "outputs": [],
      "source": [
        "earlystopping = tf.keras.callbacks.EarlyStopping(monitor='val_loss', patience=20)\n",
        "model.fit(X_train, Y_train, epochs=200, batch_size=512, callbacks=[earlystopping])"
      ]
    },
    {
      "cell_type": "code",
      "execution_count": 1662,
      "metadata": {
        "colab": {
          "base_uri": "https://localhost:8080/"
        },
        "id": "byXhxjo6_oyv",
        "outputId": "e2be2c3a-a477-4825-d64a-98d2b4937e89"
      },
      "outputs": [
        {
          "output_type": "stream",
          "name": "stdout",
          "text": [
            "6/6 [==============================] - 1s 15ms/step - loss: 0.6796 - accuracy: 0.6492\n",
            "Test accuracy: 64.92%\n"
          ]
        }
      ],
      "source": [
        "test_loss, test_acc = model.evaluate(X_test, Y_test)\n",
        "print(f'Test accuracy: {test_acc * 100:.2f}%')"
      ]
    }
  ],
  "metadata": {
    "kernelspec": {
      "display_name": "Python 3.11.0 64-bit",
      "language": "python",
      "name": "python3"
    },
    "language_info": {
      "codemirror_mode": {
        "name": "ipython",
        "version": 3
      },
      "file_extension": ".py",
      "mimetype": "text/x-python",
      "name": "python",
      "nbconvert_exporter": "python",
      "pygments_lexer": "ipython3",
      "version": "3.11.0"
    },
    "orig_nbformat": 4,
    "vscode": {
      "interpreter": {
        "hash": "ff4b1fca65a764b45acb559e482afe389d289dd599b9f8c5fd12ff5c2ea46a65"
      }
    },
    "colab": {
      "provenance": []
    }
  },
  "nbformat": 4,
  "nbformat_minor": 0
}