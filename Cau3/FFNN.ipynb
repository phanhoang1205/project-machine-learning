{
 "cells": [
  {
   "cell_type": "markdown",
   "metadata": {},
   "source": [
    "* MSV_HoVaTen:\n",
    "521H0501_Phan Minh Hoàng,\n",
    "521H0398_Lê Nguyễn Viết Hiệp,\n",
    "521H0276_Trang Sĩ Nam\n",
    "\n"
   ]
  },
  {
   "cell_type": "code",
   "execution_count": 598,
   "metadata": {},
   "outputs": [],
   "source": [
    "import pandas as pd\n",
    "import numpy as np\n",
    "import matplotlib.pyplot as plt\n",
    "import seaborn as sns"
   ]
  },
  {
   "cell_type": "code",
   "execution_count": 599,
   "metadata": {},
   "outputs": [
    {
     "name": "stdout",
     "output_type": "stream",
     "text": [
      "(1000, 13)\n"
     ]
    }
   ],
   "source": [
    "data = pd.read_csv('bike_buyers.csv')\n",
    "print(data.shape)"
   ]
  },
  {
   "cell_type": "code",
   "execution_count": 600,
   "metadata": {},
   "outputs": [],
   "source": [
    "data = data.dropna()"
   ]
  },
  {
   "cell_type": "code",
   "execution_count": 601,
   "metadata": {},
   "outputs": [
    {
     "data": {
      "text/plain": [
       "False    952\n",
       "Name: count, dtype: int64"
      ]
     },
     "execution_count": 601,
     "metadata": {},
     "output_type": "execute_result"
    }
   ],
   "source": [
    "# Check duplicate\n",
    "data.duplicated().value_counts()"
   ]
  },
  {
   "cell_type": "code",
   "execution_count": 602,
   "metadata": {},
   "outputs": [
    {
     "data": {
      "text/plain": [
       "(952, 13)"
      ]
     },
     "execution_count": 602,
     "metadata": {},
     "output_type": "execute_result"
    }
   ],
   "source": [
    "data = data.drop_duplicates()\n",
    "data.shape"
   ]
  },
  {
   "cell_type": "markdown",
   "metadata": {},
   "source": [
    "* Transformation"
   ]
  },
  {
   "cell_type": "code",
   "execution_count": 603,
   "metadata": {},
   "outputs": [],
   "source": [
    "# Tranform data\n",
    "from sklearn.preprocessing import LabelEncoder\n",
    "\n",
    "types = data.dtypes\n",
    "names = list(data.columns)\n",
    "\n",
    "le = LabelEncoder()\n",
    "for i in range(len(types)):\n",
    "    if types.iloc[i]=='object':\n",
    "        le.fit_transform(data[names[i]])\n",
    "        data[names[i]] = le.transform(data[names[i]])"
   ]
  },
  {
   "cell_type": "markdown",
   "metadata": {},
   "source": [
    "* Normalization\n"
   ]
  },
  {
   "cell_type": "code",
   "execution_count": 604,
   "metadata": {},
   "outputs": [],
   "source": [
    "from sklearn.preprocessing import MinMaxScaler\n",
    "features = data.drop(['Purchased Bike'], axis=1)\n",
    "\n",
    "scaler = MinMaxScaler()\n",
    "model=scaler.fit(features)\n",
    "scaled_data= pd.DataFrame(model.transform(features))"
   ]
  },
  {
   "cell_type": "markdown",
   "metadata": {},
   "source": [
    "* Feature Selection"
   ]
  },
  {
   "cell_type": "code",
   "execution_count": 605,
   "metadata": {},
   "outputs": [],
   "source": [
    "# split data\n",
    "X = scaled_data\n",
    "y = data['Purchased Bike']"
   ]
  },
  {
   "cell_type": "code",
   "execution_count": 606,
   "metadata": {},
   "outputs": [
    {
     "data": {
      "text/plain": [
       "(952, 8)"
      ]
     },
     "execution_count": 606,
     "metadata": {},
     "output_type": "execute_result"
    }
   ],
   "source": [
    "from sklearn.feature_selection import SelectKBest, chi2, f_regression\n",
    "select_feature =  SelectKBest(score_func=chi2, k = 8)\n",
    "f_best = select_feature.fit(X, y)               \n",
    "X_new = f_best.transform(X)\n",
    "X_new.shape"
   ]
  },
  {
   "cell_type": "markdown",
   "metadata": {},
   "source": [
    "* FFNN"
   ]
  },
  {
   "cell_type": "code",
   "execution_count": 607,
   "metadata": {},
   "outputs": [],
   "source": [
    "from sklearn.model_selection import train_test_split\n",
    "from sklearn.metrics import accuracy_score, precision_score, recall_score, f1_score\n",
    "from sklearn.metrics import confusion_matrix, ConfusionMatrixDisplay\n",
    "from sklearn.metrics import classification_report\n",
    "import tensorflow as tf\n",
    "from tensorflow.keras.models import Sequential\n",
    "from tensorflow.keras.layers import Dense, Flatten\n",
    "\n",
    "X_train, X_test, Y_train, Y_test = train_test_split(X_new, y, random_state = 42, test_size=0.2)"
   ]
  },
  {
   "cell_type": "code",
   "execution_count": 608,
   "metadata": {},
   "outputs": [],
   "source": [
    "depthOfNetwork = 2\n",
    "activationFuncEachLayer = ['sigmoid', 'relu', 'sigmoid']\n",
    "neuronCountInEachLayer = [123, 65, 1]    \n",
    "lossFunction = 'binary_crossentropy' \n",
    "regularizerFunc = tf.keras.regularizers.l2(0)\n",
    "\n",
    "def createModel():\n",
    "    model = tf.keras.models.Sequential()\n",
    "    model.add(Dense(neuronCountInEachLayer[0], input_dim=8, activation = activationFuncEachLayer[0], kernel_regularizer=regularizerFunc))\n",
    "    for i in range(depthOfNetwork - 1):\n",
    "        model.add(Dense(neuronCountInEachLayer[i], activation=activationFuncEachLayer[i], kernel_regularizer=regularizerFunc))\n",
    "    model.add(Dense(1, activation='sigmoid'))\n",
    "    model.compile(loss = lossFunction , optimizer = 'adam' , metrics = ['accuracy'] ) \n",
    "    return model"
   ]
  },
  {
   "cell_type": "code",
   "execution_count": 609,
   "metadata": {},
   "outputs": [
    {
     "name": "stdout",
     "output_type": "stream",
     "text": [
      "Epoch 1/10\n",
      "11/11 [==============================] - 1s 23ms/step - loss: 0.6919 - accuracy: 0.5146 - val_loss: 0.6945 - val_accuracy: 0.4416\n",
      "Epoch 2/10\n",
      "11/11 [==============================] - 0s 7ms/step - loss: 0.6900 - accuracy: 0.5395 - val_loss: 0.7209 - val_accuracy: 0.4416\n",
      "Epoch 3/10\n",
      "11/11 [==============================] - 0s 8ms/step - loss: 0.6932 - accuracy: 0.5395 - val_loss: 0.6915 - val_accuracy: 0.4416\n",
      "Epoch 4/10\n",
      "11/11 [==============================] - 0s 6ms/step - loss: 0.6911 - accuracy: 0.5599 - val_loss: 0.7158 - val_accuracy: 0.4416\n",
      "Epoch 5/10\n",
      "11/11 [==============================] - 0s 6ms/step - loss: 0.6878 - accuracy: 0.5409 - val_loss: 0.6836 - val_accuracy: 0.6494\n",
      "Epoch 6/10\n",
      "11/11 [==============================] - 0s 5ms/step - loss: 0.6871 - accuracy: 0.5512 - val_loss: 0.7029 - val_accuracy: 0.4416\n",
      "Epoch 7/10\n",
      "11/11 [==============================] - 0s 5ms/step - loss: 0.6882 - accuracy: 0.5424 - val_loss: 0.7053 - val_accuracy: 0.4416\n",
      "Epoch 8/10\n",
      "11/11 [==============================] - 0s 5ms/step - loss: 0.6884 - accuracy: 0.5453 - val_loss: 0.6889 - val_accuracy: 0.4935\n",
      "Epoch 9/10\n",
      "11/11 [==============================] - 0s 4ms/step - loss: 0.6820 - accuracy: 0.5643 - val_loss: 0.7025 - val_accuracy: 0.4416\n",
      "Epoch 10/10\n",
      "11/11 [==============================] - 0s 5ms/step - loss: 0.6860 - accuracy: 0.5570 - val_loss: 0.6898 - val_accuracy: 0.4805\n"
     ]
    },
    {
     "data": {
      "text/plain": [
       "<keras.src.callbacks.History at 0x20943db8150>"
      ]
     },
     "execution_count": 609,
     "metadata": {},
     "output_type": "execute_result"
    }
   ],
   "source": [
    "model = createModel()\n",
    "model.fit(X_train, Y_train, epochs=10, batch_size=64, validation_split=0.1)\n"
   ]
  },
  {
   "cell_type": "code",
   "execution_count": 610,
   "metadata": {},
   "outputs": [
    {
     "name": "stdout",
     "output_type": "stream",
     "text": [
      "6/6 [==============================] - 0s 2ms/step - loss: 0.6903 - accuracy: 0.5079\n",
      "Test accuracy: 50.79%\n"
     ]
    }
   ],
   "source": [
    "test_loss, test_acc = model.evaluate(X_test, Y_test)\n",
    "print(f'Test accuracy: {test_acc * 100:.2f}%')"
   ]
  },
  {
   "cell_type": "code",
   "execution_count": null,
   "metadata": {},
   "outputs": [],
   "source": []
  }
 ],
 "metadata": {
  "kernelspec": {
   "display_name": "Python 3.11.0 64-bit",
   "language": "python",
   "name": "python3"
  },
  "language_info": {
   "codemirror_mode": {
    "name": "ipython",
    "version": 3
   },
   "file_extension": ".py",
   "mimetype": "text/x-python",
   "name": "python",
   "nbconvert_exporter": "python",
   "pygments_lexer": "ipython3",
   "version": "3.11.0"
  },
  "orig_nbformat": 4,
  "vscode": {
   "interpreter": {
    "hash": "ff4b1fca65a764b45acb559e482afe389d289dd599b9f8c5fd12ff5c2ea46a65"
   }
  }
 },
 "nbformat": 4,
 "nbformat_minor": 2
}
