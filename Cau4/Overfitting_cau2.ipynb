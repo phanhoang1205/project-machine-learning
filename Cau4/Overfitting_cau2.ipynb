{
  "cells": [
    {
      "cell_type": "markdown",
      "metadata": {
        "id": "0N4Jl5i9oqF2"
      },
      "source": [
        "* MSV_HoVaTen:\n",
        "521H0501_Phan Minh Hoàng,\n",
        "521H0398_Lê Nguyễn Viết Hiệp,\n",
        "521H0276_Trang Sĩ Nam\n",
        "\n"
      ]
    },
    {
      "cell_type": "code",
      "execution_count": 126,
      "metadata": {
        "id": "pXXeBk3VoqF4"
      },
      "outputs": [],
      "source": [
        "import pandas as pd\n",
        "import numpy as np\n",
        "import matplotlib.pyplot as plt\n",
        "import seaborn as sns\n",
        "import sklearn\n"
      ]
    },
    {
      "cell_type": "code",
      "execution_count": 127,
      "metadata": {
        "colab": {
          "base_uri": "https://localhost:8080/"
        },
        "id": "HMaG5iFzoqF5",
        "outputId": "d90de6ca-652d-4331-ba27-20a1b4826226"
      },
      "outputs": [
        {
          "output_type": "stream",
          "name": "stdout",
          "text": [
            "(1000, 13)\n"
          ]
        }
      ],
      "source": [
        "data = pd.read_csv('bike_buyers.csv')\n",
        "print(data.shape)"
      ]
    },
    {
      "cell_type": "code",
      "execution_count": 128,
      "metadata": {
        "id": "mwkna_XkoqF6"
      },
      "outputs": [],
      "source": [
        "data = data.dropna()"
      ]
    },
    {
      "cell_type": "code",
      "execution_count": 129,
      "metadata": {
        "colab": {
          "base_uri": "https://localhost:8080/"
        },
        "id": "pOQoTQdroqF6",
        "outputId": "83005b28-464d-426c-90b8-431cc4ac6b0a"
      },
      "outputs": [
        {
          "output_type": "execute_result",
          "data": {
            "text/plain": [
              "False    952\n",
              "dtype: int64"
            ]
          },
          "metadata": {},
          "execution_count": 129
        }
      ],
      "source": [
        "data.duplicated().value_counts()"
      ]
    },
    {
      "cell_type": "code",
      "execution_count": 130,
      "metadata": {
        "colab": {
          "base_uri": "https://localhost:8080/"
        },
        "id": "WTPapR61oqF7",
        "outputId": "967d8075-d0f1-4122-a267-96bd30746e82"
      },
      "outputs": [
        {
          "output_type": "execute_result",
          "data": {
            "text/plain": [
              "(952, 13)"
            ]
          },
          "metadata": {},
          "execution_count": 130
        }
      ],
      "source": [
        "data = data.drop_duplicates()\n",
        "data.shape"
      ]
    },
    {
      "cell_type": "markdown",
      "metadata": {
        "id": "13Ip-7shoqF7"
      },
      "source": [
        "# Transformation"
      ]
    },
    {
      "cell_type": "code",
      "execution_count": 131,
      "metadata": {
        "id": "rzgFasEuoqF7"
      },
      "outputs": [],
      "source": [
        "# Tranform data\n",
        "from sklearn.preprocessing import LabelEncoder\n",
        "\n",
        "types = data.dtypes\n",
        "names = list(data.columns)\n",
        "\n",
        "le = LabelEncoder()\n",
        "for i in range(len(types)):\n",
        "    if types.iloc[i]=='object':\n",
        "        le.fit_transform(data[names[i]])\n",
        "        data[names[i]] = le.transform(data[names[i]])"
      ]
    },
    {
      "cell_type": "markdown",
      "metadata": {
        "id": "gg-voYZRoqF8"
      },
      "source": [
        "# Normalization\n"
      ]
    },
    {
      "cell_type": "code",
      "execution_count": 132,
      "metadata": {
        "id": "6teA6PeDoqF8"
      },
      "outputs": [],
      "source": [
        "from sklearn.preprocessing import MinMaxScaler\n",
        "features = data.drop(['Purchased Bike'], axis=1)\n",
        "\n",
        "scaler = MinMaxScaler()\n",
        "model=scaler.fit(features)\n",
        "scaled_data= pd.DataFrame(model.transform(features))"
      ]
    },
    {
      "cell_type": "code",
      "execution_count": 133,
      "metadata": {
        "id": "8zckMYJmoqF8"
      },
      "outputs": [],
      "source": [
        "# split data\n",
        "X = scaled_data\n",
        "y = data['Purchased Bike']"
      ]
    },
    {
      "cell_type": "markdown",
      "source": [
        "- Sử dụng FeatureSelection để chọn ra các features ảnh hưởng nhất đến độ chính xác của mô hình - một phương thức tránh Overfitting"
      ],
      "metadata": {
        "id": "dcu5l3eVpWp7"
      }
    },
    {
      "cell_type": "markdown",
      "metadata": {
        "id": "IQbY7V74oqF8"
      },
      "source": [
        "# Feature Selection"
      ]
    },
    {
      "cell_type": "code",
      "execution_count": 134,
      "metadata": {
        "colab": {
          "base_uri": "https://localhost:8080/"
        },
        "id": "DNoJr66IoqF8",
        "outputId": "8b9a2e1d-ef4f-4d67-e61b-c3da6f065521"
      },
      "outputs": [
        {
          "output_type": "execute_result",
          "data": {
            "text/plain": [
              "(952, 8)"
            ]
          },
          "metadata": {},
          "execution_count": 134
        }
      ],
      "source": [
        "from sklearn.feature_selection import SelectKBest, chi2\n",
        "select_feature =  SelectKBest(score_func=chi2, k = 8)\n",
        "f_best = select_feature.fit(X, y)\n",
        "X_new = f_best.transform(X)\n",
        "X_new.shape"
      ]
    },
    {
      "cell_type": "markdown",
      "source": [],
      "metadata": {
        "id": "jI0eH0x_petR"
      }
    },
    {
      "cell_type": "code",
      "execution_count": 135,
      "metadata": {
        "id": "xo8HXe4toqF9"
      },
      "outputs": [],
      "source": [
        "from sklearn.model_selection import train_test_split\n",
        "from sklearn.metrics import accuracy_score, precision_score, recall_score, f1_score\n",
        "from sklearn.metrics import confusion_matrix, ConfusionMatrixDisplay\n",
        "from sklearn.metrics import classification_report\n",
        "\n",
        "X_train, X_test, Y_train, Y_test = train_test_split(X_new, y, random_state = 42, test_size=0.2)"
      ]
    },
    {
      "cell_type": "markdown",
      "metadata": {
        "id": "TM1L9vYvoqF9"
      },
      "source": [
        "# K Nearest Neighbor (Cross-Validation)"
      ]
    },
    {
      "cell_type": "code",
      "execution_count": 136,
      "metadata": {
        "colab": {
          "base_uri": "https://localhost:8080/",
          "height": 0
        },
        "id": "o0mtyPP5oqF9",
        "outputId": "452b1fbe-0f59-4e24-8dde-0c214fc5840c"
      },
      "outputs": [
        {
          "output_type": "execute_result",
          "data": {
            "text/plain": [
              "<sklearn.metrics._plot.confusion_matrix.ConfusionMatrixDisplay at 0x7ec8bc772d40>"
            ]
          },
          "metadata": {},
          "execution_count": 136
        },
        {
          "output_type": "display_data",
          "data": {
            "text/plain": [
              "<Figure size 640x480 with 2 Axes>"
            ],
            "image/png": "[encoded data removed]"
          },
          "metadata": {}
        }
      ],
      "source": [
        "# Train model\n",
        "from sklearn.neighbors import KNeighborsClassifier\n",
        "from sklearn.model_selection import cross_val_score\n",
        "\n",
        "KNN = KNeighborsClassifier(n_neighbors = 5, p=2, metric='euclidean')\n",
        "\n",
        "scores = cross_val_score(KNN, X_new, data[\"Purchased Bike\"], cv=5)\n",
        "\n",
        "# Train and evaluate model\n",
        "KNN.fit(X_new, data[\"Purchased Bike\"])\n",
        "Y_pred = KNN.predict(X_new)\n",
        "\n",
        "# test model\n",
        "Y_pred = KNN.predict(X_test)\n",
        "\n",
        "cm = confusion_matrix(Y_test, Y_pred)\n",
        "disp = ConfusionMatrixDisplay(confusion_matrix=cm)\n",
        "disp.plot()"
      ]
    },
    {
      "cell_type": "code",
      "execution_count": 137,
      "metadata": {
        "colab": {
          "base_uri": "https://localhost:8080/"
        },
        "id": "TzHmDGTjoqF9",
        "outputId": "95913494-1395-43f3-deb9-c0fa42dd0365"
      },
      "outputs": [
        {
          "output_type": "stream",
          "name": "stdout",
          "text": [
            "              precision    recall  f1-score   support\n",
            "\n",
            "           0       0.79      0.87      0.83        93\n",
            "           1       0.87      0.79      0.82        98\n",
            "\n",
            "    accuracy                           0.83       191\n",
            "   macro avg       0.83      0.83      0.83       191\n",
            "weighted avg       0.83      0.83      0.83       191\n",
            "\n"
          ]
        }
      ],
      "source": [
        "print(classification_report(Y_test, Y_pred))"
      ]
    },
    {
      "cell_type": "markdown",
      "metadata": {
        "id": "2JpC6O3toqF9"
      },
      "source": [
        "# Decision Tree (GridSearchCV + Cross-Validation)\n"
      ]
    },
    {
      "cell_type": "code",
      "execution_count": 138,
      "metadata": {
        "colab": {
          "base_uri": "https://localhost:8080/",
          "height": 0
        },
        "id": "YCqT640loqF9",
        "outputId": "d66d62b8-b6f8-4b46-e350-9b7e47e2d9fe"
      },
      "outputs": [
        {
          "output_type": "execute_result",
          "data": {
            "text/plain": [
              "<sklearn.metrics._plot.confusion_matrix.ConfusionMatrixDisplay at 0x7ec8bd06ec80>"
            ]
          },
          "metadata": {},
          "execution_count": 138
        },
        {
          "output_type": "display_data",
          "data": {
            "text/plain": [
              "<Figure size 640x480 with 2 Axes>"
            ],
            "image/png": "[encoded data removed]"
          },
          "metadata": {}
        }
      ],
      "source": [
        "from sklearn.tree import DecisionTreeClassifier\n",
        "from sklearn.model_selection import cross_val_score, GridSearchCV\n",
        "\n",
        "dTree = DecisionTreeClassifier(max_depth=7)\n",
        "param_grid = {\n",
        "    \"max_depth\": [3, 5, 7, 9],\n",
        "    \"min_samples_split\": [2, 5, 10],\n",
        "    \"min_samples_leaf\": [1, 2, 4],\n",
        "    \"criterion\": [\"gini\", \"entropy\"],\n",
        "}\n",
        "grid_search = GridSearchCV(dTree, param_grid, cv=5)\n",
        "\n",
        "# Tìm kiếm siêu tham số tối ưu và huấn luyện mô hình\n",
        "grid_search.fit(X_new, data[\"Purchased Bike\"])\n",
        "best_dt = grid_search.best_estimator_\n",
        "Y_pred = best_dt.predict(X_new)\n",
        "\n",
        "dTree.fit(X_train, Y_train)\n",
        "\n",
        "Y_pred = dTree.predict(X_test)\n",
        "cm = confusion_matrix(Y_test, Y_pred)\n",
        "disp = ConfusionMatrixDisplay(confusion_matrix=cm)\n",
        "disp.plot()"
      ]
    },
    {
      "cell_type": "code",
      "execution_count": 139,
      "metadata": {
        "colab": {
          "base_uri": "https://localhost:8080/"
        },
        "id": "UqUd6F54oqF-",
        "outputId": "b5c21b6f-d9bf-412e-a12a-2c5bdba6c8f3"
      },
      "outputs": [
        {
          "output_type": "stream",
          "name": "stdout",
          "text": [
            "              precision    recall  f1-score   support\n",
            "\n",
            "           0       0.65      0.68      0.66        93\n",
            "           1       0.68      0.65      0.67        98\n",
            "\n",
            "    accuracy                           0.66       191\n",
            "   macro avg       0.67      0.67      0.66       191\n",
            "weighted avg       0.67      0.66      0.66       191\n",
            "\n"
          ]
        }
      ],
      "source": [
        "print(classification_report(Y_test, Y_pred))"
      ]
    },
    {
      "cell_type": "markdown",
      "metadata": {
        "id": "QsVoRKoPoqF-"
      },
      "source": [
        "# Random Forest (Cross-Validation)"
      ]
    },
    {
      "cell_type": "code",
      "execution_count": 140,
      "metadata": {
        "colab": {
          "base_uri": "https://localhost:8080/",
          "height": 0
        },
        "id": "v-akKKa1oqF-",
        "outputId": "4bb04c3c-98d3-476c-b690-4a4fc0153eb2"
      },
      "outputs": [
        {
          "output_type": "stream",
          "name": "stdout",
          "text": [
            "Cross-validation scores: [0.58974359 0.65789474 0.68421053 0.65789474 0.60526316]\n"
          ]
        },
        {
          "output_type": "execute_result",
          "data": {
            "text/plain": [
              "<sklearn.metrics._plot.confusion_matrix.ConfusionMatrixDisplay at 0x7ec8bcdbef50>"
            ]
          },
          "metadata": {},
          "execution_count": 140
        },
        {
          "output_type": "display_data",
          "data": {
            "text/plain": [
              "<Figure size 640x480 with 2 Axes>"
            ],
            "image/png": "[encoded data removed]"
          },
          "metadata": {}
        }
      ],
      "source": [
        "from sklearn.ensemble import RandomForestClassifier\n",
        "\n",
        "# Train model\n",
        "rf = RandomForestClassifier(n_estimators=100, max_depth=10)\n",
        "rf.fit(X_train, Y_train)\n",
        "\n",
        "# Evaluate model\n",
        "scores = cross_val_score(rf, X_test, Y_test, cv=5)\n",
        "print(\"Cross-validation scores:\", scores)\n",
        "\n",
        "# Test model\n",
        "Y_pred = rf.predict(X_test)\n",
        "\n",
        "cm = confusion_matrix(Y_test, Y_pred)\n",
        "disp = ConfusionMatrixDisplay(confusion_matrix=cm)\n",
        "disp.plot()\n"
      ]
    },
    {
      "cell_type": "code",
      "execution_count": 141,
      "metadata": {
        "colab": {
          "base_uri": "https://localhost:8080/"
        },
        "id": "HLD6FrVuoqF-",
        "outputId": "a131d99f-fd2c-4f13-86b9-131c756d4c46"
      },
      "outputs": [
        {
          "output_type": "stream",
          "name": "stdout",
          "text": [
            "              precision    recall  f1-score   support\n",
            "\n",
            "           0       0.72      0.81      0.76        93\n",
            "           1       0.79      0.70      0.75        98\n",
            "\n",
            "    accuracy                           0.75       191\n",
            "   macro avg       0.76      0.76      0.75       191\n",
            "weighted avg       0.76      0.75      0.75       191\n",
            "\n"
          ]
        }
      ],
      "source": [
        "print(classification_report(Y_test, Y_pred))"
      ]
    },
    {
      "cell_type": "markdown",
      "metadata": {
        "id": "N4bEN3czoqF-"
      },
      "source": [
        "# Multinomial Naive Bayes"
      ]
    },
    {
      "cell_type": "code",
      "execution_count": 142,
      "metadata": {
        "colab": {
          "base_uri": "https://localhost:8080/",
          "height": 466
        },
        "id": "4P8kzS1ooqF-",
        "outputId": "fd3f394c-5de8-46be-a6e3-cf3adfa163cc"
      },
      "outputs": [
        {
          "output_type": "execute_result",
          "data": {
            "text/plain": [
              "<sklearn.metrics._plot.confusion_matrix.ConfusionMatrixDisplay at 0x7ec8bc3cf310>"
            ]
          },
          "metadata": {},
          "execution_count": 142
        },
        {
          "output_type": "display_data",
          "data": {
            "text/plain": [
              "<Figure size 640x480 with 2 Axes>"
            ],
            "image/png": "[encoded data removed]"
          },
          "metadata": {}
        }
      ],
      "source": [
        "from sklearn.naive_bayes import MultinomialNB\n",
        "\n",
        "class EarlyStoppingNB(MultinomialNB):\n",
        "    def fit(self, X, y, callbacks=None, **kwargs):\n",
        "        self.callbacks = callbacks\n",
        "        super().fit(X, y, **kwargs)\n",
        "\n",
        "        if self.callbacks:\n",
        "            for callback in self.callbacks:\n",
        "                callback.on_train_end()\n",
        "\n",
        "mnb = EarlyStoppingNB()\n",
        "es = EarlyStopping(patience=10)\n",
        "mnb.fit(X_train, Y_train, callbacks=[es])\n",
        "\n",
        "# test model\n",
        "Y_pred = mnb.predict(X_test)\n",
        "\n",
        "cm = confusion_matrix(Y_test, Y_pred)\n",
        "disp = ConfusionMatrixDisplay(confusion_matrix=cm)\n",
        "disp.plot()"
      ]
    },
    {
      "cell_type": "code",
      "execution_count": 143,
      "metadata": {
        "colab": {
          "base_uri": "https://localhost:8080/"
        },
        "id": "RWEoHV3ToqF-",
        "outputId": "018f318e-7417-45bc-f510-8652d758e175"
      },
      "outputs": [
        {
          "output_type": "stream",
          "name": "stdout",
          "text": [
            "              precision    recall  f1-score   support\n",
            "\n",
            "           0       0.50      0.74      0.60        93\n",
            "           1       0.55      0.30      0.38        98\n",
            "\n",
            "    accuracy                           0.51       191\n",
            "   macro avg       0.52      0.52      0.49       191\n",
            "weighted avg       0.52      0.51      0.49       191\n",
            "\n"
          ]
        }
      ],
      "source": [
        "print(classification_report(Y_test, Y_pred))"
      ]
    },
    {
      "cell_type": "markdown",
      "metadata": {
        "id": "gJD8SCBSoqF-"
      },
      "source": [
        "# Bernoulli Naive Bayes"
      ]
    },
    {
      "cell_type": "code",
      "execution_count": 144,
      "metadata": {
        "colab": {
          "base_uri": "https://localhost:8080/",
          "height": 472
        },
        "id": "UChqYE-soqF_",
        "outputId": "68d15392-f772-448e-b7ff-cde021364a57"
      },
      "outputs": [
        {
          "output_type": "execute_result",
          "data": {
            "text/plain": [
              "<sklearn.metrics._plot.confusion_matrix.ConfusionMatrixDisplay at 0x7ec8bc3cea10>"
            ]
          },
          "metadata": {},
          "execution_count": 144
        },
        {
          "output_type": "display_data",
          "data": {
            "text/plain": [
              "<Figure size 640x480 with 2 Axes>"
            ],
            "image/png": "[encoded data removed]"
          },
          "metadata": {}
        }
      ],
      "source": [
        "from sklearn.naive_bayes import BernoulliNB\n",
        "from sklearn.model_selection import cross_val_score\n",
        "\n",
        "bnb = BernoulliNB()\n",
        "scores = cross_val_score(bnb, X_new, data[\"Purchased Bike\"], cv=5)\n",
        "# Sau khi đánh giá bằng cross-validation, có thể huấn luyện mô hình trên toàn bộ dữ liệu huấn luyện\n",
        "bnb.fit(X_new, data[\"Purchased Bike\"])\n",
        "# test model\n",
        "Y_pred = bnb.predict(X_test)\n",
        "\n",
        "cm = confusion_matrix(Y_test, Y_pred)\n",
        "disp = ConfusionMatrixDisplay(confusion_matrix=cm)\n",
        "disp.plot()"
      ]
    },
    {
      "cell_type": "code",
      "execution_count": 145,
      "metadata": {
        "colab": {
          "base_uri": "https://localhost:8080/"
        },
        "id": "v1Ax8dbZoqF_",
        "outputId": "6473a1e3-0cec-42af-d3c6-b9e60e4ea63e"
      },
      "outputs": [
        {
          "output_type": "stream",
          "name": "stdout",
          "text": [
            "              precision    recall  f1-score   support\n",
            "\n",
            "           0       0.58      0.75      0.66        93\n",
            "           1       0.68      0.49      0.57        98\n",
            "\n",
            "    accuracy                           0.62       191\n",
            "   macro avg       0.63      0.62      0.61       191\n",
            "weighted avg       0.63      0.62      0.61       191\n",
            "\n"
          ]
        }
      ],
      "source": [
        "print(classification_report(Y_test, Y_pred))"
      ]
    },
    {
      "cell_type": "markdown",
      "metadata": {
        "id": "JGRhdKq9oqF_"
      },
      "source": [
        "# Logistic Regession"
      ]
    },
    {
      "cell_type": "code",
      "execution_count": 146,
      "metadata": {
        "colab": {
          "base_uri": "https://localhost:8080/",
          "height": 466
        },
        "id": "kAxGa0qRoqF_",
        "outputId": "4c2434ec-972d-4851-d76e-89a8f10162e7"
      },
      "outputs": [
        {
          "output_type": "execute_result",
          "data": {
            "text/plain": [
              "<sklearn.metrics._plot.confusion_matrix.ConfusionMatrixDisplay at 0x7ec8bc2a9120>"
            ]
          },
          "metadata": {},
          "execution_count": 146
        },
        {
          "output_type": "display_data",
          "data": {
            "text/plain": [
              "<Figure size 640x480 with 2 Axes>"
            ],
            "image/png": "[encoded data removed]"
          },
          "metadata": {}
        }
      ],
      "source": [
        "from sklearn.linear_model import LogisticRegression\n",
        "model = LogisticRegression()\n",
        "model.fit(X_train, Y_train)\n",
        "\n",
        "Y_pred = model.predict(X_test)\n",
        "\n",
        "cm = confusion_matrix(Y_test, Y_pred)\n",
        "disp = ConfusionMatrixDisplay(confusion_matrix=cm)\n",
        "disp.plot()"
      ]
    },
    {
      "cell_type": "code",
      "execution_count": 147,
      "metadata": {
        "colab": {
          "base_uri": "https://localhost:8080/"
        },
        "id": "k2BC2qL-oqF_",
        "outputId": "2cd32327-9dd0-48c5-f463-55d91071d648"
      },
      "outputs": [
        {
          "output_type": "stream",
          "name": "stdout",
          "text": [
            "              precision    recall  f1-score   support\n",
            "\n",
            "           0       0.56      0.71      0.63        93\n",
            "           1       0.64      0.48      0.55        98\n",
            "\n",
            "    accuracy                           0.59       191\n",
            "   macro avg       0.60      0.59      0.59       191\n",
            "weighted avg       0.60      0.59      0.59       191\n",
            "\n"
          ]
        }
      ],
      "source": [
        "print(classification_report(Y_test, Y_pred))"
      ]
    },
    {
      "cell_type": "markdown",
      "metadata": {
        "id": "nm2MltV4oqF_"
      },
      "source": [
        "# Support Vector Machine (Lựa chọn Kernel + Chuẩn hóa dữ liệu)"
      ]
    },
    {
      "cell_type": "code",
      "source": [
        "from sklearn.svm import SVC\n",
        "from sklearn.metrics import accuracy_score\n",
        "from sklearn.preprocessing import StandardScaler\n",
        "\n",
        "kernels = [\"linear\", \"poly\", \"rbf\", \"sigmoid\",]\n",
        "\n",
        "for kernel in kernels:\n",
        "    svm = SVC(kernel=kernel, C=2.5)\n",
        "    svm.fit(X_train, Y_train)\n",
        "    y_pred = svm.predict(X_test)\n",
        "    accuracy = accuracy_score(Y_test, y_pred)\n",
        "\n",
        "# Chuẩn hóa dữ liệu\n",
        "scaler = StandardScaler()\n",
        "X_train_scaled = scaler.fit_transform(X_train)\n",
        "X_test_scaled = scaler.transform(X_test)\n",
        "\n",
        "svm = SVC(kernel=\"sigmoid\", C=2.5)\n",
        "svm.fit(X_train_scaled, Y_train)\n",
        "\n",
        "y_pred = svm.predict(X_test_scaled)\n",
        "accuracy = accuracy_score(Y_test, y_pred)\n",
        "cm = confusion_matrix(Y_test, Y_pred)\n",
        "disp = ConfusionMatrixDisplay(confusion_matrix=cm)\n",
        "disp.plot()\n",
        "\n",
        "print(\"Chuẩn hóa dữ liệu:\", \"Accuracy:\", accuracy)"
      ],
      "metadata": {
        "colab": {
          "base_uri": "https://localhost:8080/",
          "height": 466
        },
        "id": "CkKywsBZ4QYi",
        "outputId": "a9bbb08e-2f8a-42cb-a3c9-4b42074baf15"
      },
      "execution_count": 160,
      "outputs": [
        {
          "output_type": "stream",
          "name": "stdout",
          "text": [
            "Chuẩn hóa dữ liệu: Accuracy: 0.4869109947643979\n"
          ]
        },
        {
          "output_type": "display_data",
          "data": {
            "text/plain": [
              "<Figure size 640x480 with 2 Axes>"
            ],
            "image/png": "[encoded data removed]"
          },
          "metadata": {}
        }
      ]
    },
    {
      "cell_type": "code",
      "execution_count": 161,
      "metadata": {
        "colab": {
          "base_uri": "https://localhost:8080/"
        },
        "id": "4BORL5V4oqF_",
        "outputId": "d1f9a488-ca25-405a-b11b-b67cb2d4e231"
      },
      "outputs": [
        {
          "output_type": "stream",
          "name": "stdout",
          "text": [
            "              precision    recall  f1-score   support\n",
            "\n",
            "           0       0.66      0.78      0.72        93\n",
            "           1       0.75      0.62      0.68        98\n",
            "\n",
            "    accuracy                           0.70       191\n",
            "   macro avg       0.71      0.70      0.70       191\n",
            "weighted avg       0.71      0.70      0.70       191\n",
            "\n"
          ]
        }
      ],
      "source": [
        "print(classification_report(Y_test, Y_pred))"
      ]
    },
    {
      "cell_type": "markdown",
      "metadata": {
        "id": "NVKEW2gUoqGA"
      },
      "source": [
        "# Ensamble"
      ]
    },
    {
      "cell_type": "markdown",
      "metadata": {
        "id": "PuzkgjCooqGA"
      },
      "source": [
        "* Bagging (Tăng số lượng estimator)"
      ]
    },
    {
      "cell_type": "code",
      "execution_count": 168,
      "metadata": {
        "colab": {
          "base_uri": "https://localhost:8080/",
          "height": 466
        },
        "id": "2k4TjmEnoqGA",
        "outputId": "d8bf9ca1-33e0-4de1-d482-579661c00fbf"
      },
      "outputs": [
        {
          "output_type": "execute_result",
          "data": {
            "text/plain": [
              "<sklearn.metrics._plot.confusion_matrix.ConfusionMatrixDisplay at 0x7ec8bba46650>"
            ]
          },
          "metadata": {},
          "execution_count": 168
        },
        {
          "output_type": "display_data",
          "data": {
            "text/plain": [
              "<Figure size 640x480 with 2 Axes>"
            ],
            "image/png": "[encoded data removed]"
          },
          "metadata": {}
        }
      ],
      "source": [
        "from sklearn.ensemble import BaggingClassifier\n",
        "\n",
        "clf = BaggingClassifier(estimator=DecisionTreeClassifier(),\n",
        "                        n_estimators=100, random_state=0).fit(X_train, Y_train)\n",
        "Y_pred = clf.predict(X_test)\n",
        "\n",
        "cm = confusion_matrix(Y_test, Y_pred)\n",
        "disp = ConfusionMatrixDisplay(confusion_matrix=cm)\n",
        "disp.plot()"
      ]
    },
    {
      "cell_type": "code",
      "execution_count": 169,
      "metadata": {
        "colab": {
          "base_uri": "https://localhost:8080/"
        },
        "id": "oFhuEzknoqGA",
        "outputId": "32ae8327-486a-43ca-949f-cc72d00d3fb2"
      },
      "outputs": [
        {
          "output_type": "stream",
          "name": "stdout",
          "text": [
            "              precision    recall  f1-score   support\n",
            "\n",
            "           0       0.68      0.76      0.72        93\n",
            "           1       0.75      0.66      0.70        98\n",
            "\n",
            "    accuracy                           0.71       191\n",
            "   macro avg       0.71      0.71      0.71       191\n",
            "weighted avg       0.72      0.71      0.71       191\n",
            "\n"
          ]
        }
      ],
      "source": [
        "print(classification_report(Y_test, Y_pred))"
      ]
    },
    {
      "cell_type": "markdown",
      "metadata": {
        "id": "1PksfTtkoqGI"
      },
      "source": [
        "* GradientBoosting (GradientBoostingClassifer + subsample + GridSearchCV)"
      ]
    },
    {
      "cell_type": "code",
      "execution_count": 189,
      "metadata": {
        "colab": {
          "base_uri": "https://localhost:8080/",
          "height": 484
        },
        "id": "wMZ1NhvnoqGJ",
        "outputId": "9ce24e6a-faa9-4ef5-dc2f-66ed3a2bf75d"
      },
      "outputs": [
        {
          "output_type": "stream",
          "name": "stdout",
          "text": [
            "Best parameters: {'learning_rate': 0.05, 'max_depth': 4, 'n_estimators': 100, 'subsample': 0.7}\n"
          ]
        },
        {
          "output_type": "execute_result",
          "data": {
            "text/plain": [
              "<sklearn.metrics._plot.confusion_matrix.ConfusionMatrixDisplay at 0x7ec8bcaa92d0>"
            ]
          },
          "metadata": {},
          "execution_count": 189
        },
        {
          "output_type": "display_data",
          "data": {
            "text/plain": [
              "<Figure size 640x480 with 2 Axes>"
            ],
            "image/png": "[encoded data removed]"
          },
          "metadata": {}
        }
      ],
      "source": [
        "from sklearn.ensemble import GradientBoostingClassifier\n",
        "from sklearn.model_selection import GridSearchCV\n",
        "\n",
        "# Tạo grid các siêu tham số để thử nghiệm\n",
        "param_grid = {\n",
        "    \"learning_rate\": [0.05, 0.1],\n",
        "    \"max_depth\": [3, 4],\n",
        "    \"n_estimators\": [100, 200],\n",
        "    \"subsample\": [0.7, 0.8]\n",
        "}\n",
        "\n",
        "# Tìm cấu hình tốt nhất bằng GridSearchCV\n",
        "grid_search = GridSearchCV(GradientBoostingClassifier(random_state=0), param_grid, cv=3, n_jobs=-1)\n",
        "grid_search.fit(X_train, Y_train)\n",
        "best_params = grid_search.best_params_\n",
        "print(\"Best parameters:\", best_params)\n",
        "\n",
        "# Huấn luyện mô hình với các siêu tham số tốt nhất\n",
        "clf = GradientBoostingClassifier(**best_params, random_state=0)\n",
        "clf.fit(X_train, Y_train)\n",
        "Y_pred = clf.predict(X_test)\n",
        "accuracy = accuracy_score(Y_test, Y_pred)\n",
        "\n",
        "cm = confusion_matrix(Y_test, Y_pred)\n",
        "disp = ConfusionMatrixDisplay(confusion_matrix=cm)\n",
        "disp.plot()"
      ]
    },
    {
      "cell_type": "code",
      "execution_count": 188,
      "metadata": {
        "colab": {
          "base_uri": "https://localhost:8080/"
        },
        "id": "yrG6_wrLoqGJ",
        "outputId": "366c1e49-477d-4e48-e353-33c41ea60f78"
      },
      "outputs": [
        {
          "output_type": "stream",
          "name": "stdout",
          "text": [
            "              precision    recall  f1-score   support\n",
            "\n",
            "           0       0.69      0.76      0.72        93\n",
            "           1       0.75      0.67      0.71        98\n",
            "\n",
            "    accuracy                           0.72       191\n",
            "   macro avg       0.72      0.72      0.72       191\n",
            "weighted avg       0.72      0.72      0.72       191\n",
            "\n"
          ]
        }
      ],
      "source": [
        "print(classification_report(Y_test, Y_pred))"
      ]
    },
    {
      "cell_type": "markdown",
      "metadata": {
        "id": "tEtuvKGloqGJ"
      },
      "source": [
        "* Stack"
      ]
    },
    {
      "cell_type": "code",
      "execution_count": 155,
      "metadata": {
        "colab": {
          "base_uri": "https://localhost:8080/",
          "height": 466
        },
        "id": "6psKdfR8oqGJ",
        "outputId": "83c596b3-544c-4487-97a3-7e29f84a6518"
      },
      "outputs": [
        {
          "output_type": "execute_result",
          "data": {
            "text/plain": [
              "<sklearn.metrics._plot.confusion_matrix.ConfusionMatrixDisplay at 0x7ec90fd29150>"
            ]
          },
          "metadata": {},
          "execution_count": 155
        },
        {
          "output_type": "display_data",
          "data": {
            "text/plain": [
              "<Figure size 640x480 with 2 Axes>"
            ],
            "image/png": "[encoded data removed]"
          },
          "metadata": {}
        }
      ],
      "source": [
        "from sklearn.ensemble import StackingClassifier\n",
        "from sklearn.svm import SVC\n",
        "\n",
        "layer = list()\n",
        "\n",
        "layer.append(('dt', DecisionTreeClassifier()))\n",
        "layer.append(('bnb', BernoulliNB()))\n",
        "layer.append(('svc', SVC()))\n",
        "\n",
        "finalLayer = LogisticRegression()\n",
        "\n",
        "model = StackingClassifier(estimators=layer, final_estimator=finalLayer, cv=5)\n",
        "model.fit(X_train, Y_train)\n",
        "\n",
        "Y_pred = model.predict(X_test)\n",
        "Y_pred_train = model.predict(X_train)\n",
        "\n",
        "cm = confusion_matrix(Y_test, Y_pred)\n",
        "disp = ConfusionMatrixDisplay(confusion_matrix=cm)\n",
        "disp.plot()"
      ]
    },
    {
      "cell_type": "code",
      "execution_count": 156,
      "metadata": {
        "colab": {
          "base_uri": "https://localhost:8080/"
        },
        "id": "Fr5yHMjzoqGJ",
        "outputId": "8119149c-aed1-46e7-c409-fbe444ae2b0f"
      },
      "outputs": [
        {
          "output_type": "stream",
          "name": "stdout",
          "text": [
            "              precision    recall  f1-score   support\n",
            "\n",
            "           0       0.66      0.78      0.72        93\n",
            "           1       0.75      0.62      0.68        98\n",
            "\n",
            "    accuracy                           0.70       191\n",
            "   macro avg       0.71      0.70      0.70       191\n",
            "weighted avg       0.71      0.70      0.70       191\n",
            "\n"
          ]
        }
      ],
      "source": [
        "print(classification_report(Y_test, Y_pred))"
      ]
    }
  ],
  "metadata": {
    "kernelspec": {
      "display_name": "Python 3.11.0 64-bit",
      "language": "python",
      "name": "python3"
    },
    "language_info": {
      "codemirror_mode": {
        "name": "ipython",
        "version": 3
      },
      "file_extension": ".py",
      "mimetype": "text/x-python",
      "name": "python",
      "nbconvert_exporter": "python",
      "pygments_lexer": "ipython3",
      "version": "3.11.0"
    },
    "orig_nbformat": 4,
    "vscode": {
      "interpreter": {
        "hash": "ff4b1fca65a764b45acb559e482afe389d289dd599b9f8c5fd12ff5c2ea46a65"
      }
    },
    "colab": {
      "provenance": []
    }
  },
  "nbformat": 4,
  "nbformat_minor": 0
}