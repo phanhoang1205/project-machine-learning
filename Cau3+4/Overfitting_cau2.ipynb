{
  "cells": [
    {
      "cell_type": "markdown",
      "metadata": {
        "id": "0N4Jl5i9oqF2"
      },
      "source": [
        "* MSV_HoVaTen:\n",
        "521H0501_Phan Minh Hoàng,\n",
        "521H0398_Lê Nguyễn Viết Hiệp,\n",
        "521H0276_Trang Sĩ Nam\n",
        "\n"
      ]
    },
    {
      "cell_type": "code",
      "execution_count": 18,
      "metadata": {
        "id": "pXXeBk3VoqF4"
      },
      "outputs": [],
      "source": [
        "import pandas as pd\n",
        "import numpy as np\n",
        "import matplotlib.pyplot as plt\n",
        "import seaborn as sns\n",
        "import sklearn\n"
      ]
    },
    {
      "cell_type": "code",
      "execution_count": 19,
      "metadata": {
        "colab": {
          "base_uri": "https://localhost:8080/"
        },
        "id": "HMaG5iFzoqF5",
        "outputId": "64172641-b82e-4632-99c2-cba3132aadcb"
      },
      "outputs": [
        {
          "name": "stdout",
          "output_type": "stream",
          "text": [
            "(1000, 13)\n"
          ]
        }
      ],
      "source": [
        "data = pd.read_csv('bike_buyers.csv')\n",
        "print(data.shape)"
      ]
    },
    {
      "cell_type": "code",
      "execution_count": 20,
      "metadata": {
        "id": "mwkna_XkoqF6"
      },
      "outputs": [],
      "source": [
        "data = data.dropna()"
      ]
    },
    {
      "cell_type": "code",
      "execution_count": 21,
      "metadata": {
        "colab": {
          "base_uri": "https://localhost:8080/"
        },
        "id": "pOQoTQdroqF6",
        "outputId": "aa30b2f2-026e-4c33-d832-ca338adacee0"
      },
      "outputs": [
        {
          "data": {
            "text/plain": [
              "False    952\n",
              "dtype: int64"
            ]
          },
          "execution_count": 21,
          "metadata": {},
          "output_type": "execute_result"
        }
      ],
      "source": [
        "data.duplicated().value_counts()"
      ]
    },
    {
      "cell_type": "code",
      "execution_count": 22,
      "metadata": {
        "colab": {
          "base_uri": "https://localhost:8080/"
        },
        "id": "WTPapR61oqF7",
        "outputId": "93824a35-e077-4b3f-c3df-a0b72e3514f5"
      },
      "outputs": [
        {
          "data": {
            "text/plain": [
              "(952, 13)"
            ]
          },
          "execution_count": 22,
          "metadata": {},
          "output_type": "execute_result"
        }
      ],
      "source": [
        "data = data.drop_duplicates()\n",
        "data.shape"
      ]
    },
    {
      "cell_type": "markdown",
      "metadata": {
        "id": "13Ip-7shoqF7"
      },
      "source": [
        "# Transformation"
      ]
    },
    {
      "cell_type": "code",
      "execution_count": 23,
      "metadata": {
        "id": "rzgFasEuoqF7"
      },
      "outputs": [],
      "source": [
        "# Tranform data\n",
        "from sklearn.preprocessing import LabelEncoder\n",
        "\n",
        "types = data.dtypes\n",
        "names = list(data.columns)\n",
        "\n",
        "le = LabelEncoder()\n",
        "for i in range(len(types)):\n",
        "    if types.iloc[i]=='object':\n",
        "        le.fit_transform(data[names[i]])\n",
        "        data[names[i]] = le.transform(data[names[i]])"
      ]
    },
    {
      "cell_type": "markdown",
      "metadata": {
        "id": "gg-voYZRoqF8"
      },
      "source": [
        "# Normalization\n"
      ]
    },
    {
      "cell_type": "code",
      "execution_count": 24,
      "metadata": {
        "id": "6teA6PeDoqF8"
      },
      "outputs": [],
      "source": [
        "from sklearn.preprocessing import MinMaxScaler\n",
        "features = data.drop(['Purchased Bike'], axis=1)\n",
        "\n",
        "scaler = MinMaxScaler()\n",
        "model=scaler.fit(features)\n",
        "scaled_data= pd.DataFrame(model.transform(features))"
      ]
    },
    {
      "cell_type": "code",
      "execution_count": 25,
      "metadata": {
        "id": "8zckMYJmoqF8"
      },
      "outputs": [],
      "source": [
        "# split data\n",
        "X = scaled_data\n",
        "y = data['Purchased Bike']"
      ]
    },
    {
      "cell_type": "markdown",
      "metadata": {
        "id": "dcu5l3eVpWp7"
      },
      "source": [
        "- Sử dụng FeatureSelection để chọn ra các features ảnh hưởng nhất đến độ chính xác của mô hình - một phương thức tránh Overfitting"
      ]
    },
    {
      "cell_type": "markdown",
      "metadata": {
        "id": "IQbY7V74oqF8"
      },
      "source": [
        "# Feature Selection"
      ]
    },
    {
      "cell_type": "code",
      "execution_count": 26,
      "metadata": {
        "colab": {
          "base_uri": "https://localhost:8080/"
        },
        "id": "DNoJr66IoqF8",
        "outputId": "b9a74ca0-40ed-4e80-b6e1-089c2fedc09f"
      },
      "outputs": [
        {
          "data": {
            "text/plain": [
              "(952, 8)"
            ]
          },
          "execution_count": 26,
          "metadata": {},
          "output_type": "execute_result"
        }
      ],
      "source": [
        "from sklearn.feature_selection import SelectKBest, chi2\n",
        "select_feature =  SelectKBest(score_func=chi2, k = 8)\n",
        "f_best = select_feature.fit(X, y)\n",
        "X_new = f_best.transform(X)\n",
        "X_new.shape"
      ]
    },
    {
      "cell_type": "markdown",
      "metadata": {
        "id": "jI0eH0x_petR"
      },
      "source": []
    },
    {
      "cell_type": "code",
      "execution_count": 27,
      "metadata": {
        "id": "xo8HXe4toqF9"
      },
      "outputs": [],
      "source": [
        "from sklearn.model_selection import train_test_split\n",
        "from sklearn.metrics import accuracy_score, precision_score, recall_score, f1_score\n",
        "from sklearn.metrics import confusion_matrix, ConfusionMatrixDisplay\n",
        "from sklearn.metrics import classification_report\n",
        "\n",
        "X_train, X_test, Y_train, Y_test = train_test_split(X_new, y, random_state = 42, test_size=0.2)"
      ]
    },
    {
      "cell_type": "markdown",
      "metadata": {
        "id": "TM1L9vYvoqF9"
      },
      "source": [
        "# K Nearest Neighbor (Cross-Validation)"
      ]
    },
    {
      "cell_type": "code",
      "execution_count": 28,
      "metadata": {
        "colab": {
          "base_uri": "https://localhost:8080/",
          "height": 467
        },
        "id": "o0mtyPP5oqF9",
        "outputId": "35970ada-f426-4595-8f08-e0a9bb36bf38"
      },
      "outputs": [
        {
          "data": {
            "text/plain": [
              "<sklearn.metrics._plot.confusion_matrix.ConfusionMatrixDisplay at 0x7e3ab51bba90>"
            ]
          },
          "execution_count": 28,
          "metadata": {},
          "output_type": "execute_result"
        },
        {
          "data": {
            "image/png": "[encoded data removed]",
            "text/plain": [
              "<Figure size 640x480 with 2 Axes>"
            ]
          },
          "metadata": {},
          "output_type": "display_data"
        }
      ],
      "source": [
        "# Train model\n",
        "from sklearn.neighbors import KNeighborsClassifier\n",
        "from sklearn.model_selection import cross_val_score\n",
        "\n",
        "KNN = KNeighborsClassifier(n_neighbors = 5, p=2, metric='euclidean')\n",
        "\n",
        "scores = cross_val_score(KNN, X_new, data[\"Purchased Bike\"], cv=5)\n",
        "\n",
        "KNN.fit(X_new, data[\"Purchased Bike\"])\n",
        "Y_pred = KNN.predict(X_new)\n",
        "\n",
        "Y_pred = KNN.predict(X_test)\n",
        "\n",
        "cm = confusion_matrix(Y_test, Y_pred)\n",
        "disp = ConfusionMatrixDisplay(confusion_matrix=cm)\n",
        "disp.plot()"
      ]
    },
    {
      "cell_type": "code",
      "execution_count": 29,
      "metadata": {
        "colab": {
          "base_uri": "https://localhost:8080/"
        },
        "id": "TzHmDGTjoqF9",
        "outputId": "f8327d01-d6a4-4171-e76c-dc2979073f3c"
      },
      "outputs": [
        {
          "name": "stdout",
          "output_type": "stream",
          "text": [
            "              precision    recall  f1-score   support\n",
            "\n",
            "           0       0.79      0.87      0.83        93\n",
            "           1       0.87      0.79      0.82        98\n",
            "\n",
            "    accuracy                           0.83       191\n",
            "   macro avg       0.83      0.83      0.83       191\n",
            "weighted avg       0.83      0.83      0.83       191\n",
            "\n"
          ]
        }
      ],
      "source": [
        "print(classification_report(Y_test, Y_pred))"
      ]
    },
    {
      "cell_type": "markdown",
      "metadata": {
        "id": "2JpC6O3toqF9"
      },
      "source": [
        "# Decision Tree (GridSearchCV + Cross-Validation)\n"
      ]
    },
    {
      "cell_type": "code",
      "execution_count": 30,
      "metadata": {
        "colab": {
          "base_uri": "https://localhost:8080/",
          "height": 466
        },
        "id": "YCqT640loqF9",
        "outputId": "a97e40e3-bbe3-4016-cb27-fdaac61085cf"
      },
      "outputs": [
        {
          "data": {
            "text/plain": [
              "<sklearn.metrics._plot.confusion_matrix.ConfusionMatrixDisplay at 0x7e3ab1985a80>"
            ]
          },
          "execution_count": 30,
          "metadata": {},
          "output_type": "execute_result"
        },
        {
          "data": {
            "image/png": "[encoded data removed]",
            "text/plain": [
              "<Figure size 640x480 with 2 Axes>"
            ]
          },
          "metadata": {},
          "output_type": "display_data"
        }
      ],
      "source": [
        "from sklearn.tree import DecisionTreeClassifier\n",
        "from sklearn.model_selection import cross_val_score, GridSearchCV\n",
        "\n",
        "dTree = DecisionTreeClassifier(max_depth=7)\n",
        "param_grid = {\n",
        "    \"max_depth\": [3, 5, 7, 9],\n",
        "    \"min_samples_split\": [2, 5, 10],\n",
        "    \"min_samples_leaf\": [1, 2, 4],\n",
        "    \"criterion\": [\"gini\", \"entropy\"],\n",
        "}\n",
        "grid_search = GridSearchCV(dTree, param_grid, cv=5)\n",
        "\n",
        "# Tìm kiếm siêu tham số tối ưu và huấn luyện mô hình\n",
        "grid_search.fit(X_new, data[\"Purchased Bike\"])\n",
        "best_dt = grid_search.best_estimator_\n",
        "Y_pred = best_dt.predict(X_new)\n",
        "\n",
        "dTree.fit(X_train, Y_train)\n",
        "\n",
        "Y_pred = dTree.predict(X_test)\n",
        "cm = confusion_matrix(Y_test, Y_pred)\n",
        "disp = ConfusionMatrixDisplay(confusion_matrix=cm)\n",
        "disp.plot()"
      ]
    },
    {
      "cell_type": "code",
      "execution_count": 31,
      "metadata": {
        "colab": {
          "base_uri": "https://localhost:8080/"
        },
        "id": "UqUd6F54oqF-",
        "outputId": "1a2caab8-76ed-427e-a49d-235865401a84"
      },
      "outputs": [
        {
          "name": "stdout",
          "output_type": "stream",
          "text": [
            "              precision    recall  f1-score   support\n",
            "\n",
            "           0       0.65      0.68      0.66        93\n",
            "           1       0.68      0.65      0.67        98\n",
            "\n",
            "    accuracy                           0.66       191\n",
            "   macro avg       0.67      0.67      0.66       191\n",
            "weighted avg       0.67      0.66      0.66       191\n",
            "\n"
          ]
        }
      ],
      "source": [
        "print(classification_report(Y_test, Y_pred))"
      ]
    },
    {
      "cell_type": "markdown",
      "metadata": {
        "id": "QsVoRKoPoqF-"
      },
      "source": [
        "# Random Forest (Cross-Validation)"
      ]
    },
    {
      "cell_type": "code",
      "execution_count": 32,
      "metadata": {
        "colab": {
          "base_uri": "https://localhost:8080/",
          "height": 484
        },
        "id": "v-akKKa1oqF-",
        "outputId": "4c95c91e-2c98-4c09-e70d-b8651904070c"
      },
      "outputs": [
        {
          "name": "stdout",
          "output_type": "stream",
          "text": [
            "Cross-validation scores: [0.61538462 0.71052632 0.65789474 0.68421053 0.60526316]\n"
          ]
        },
        {
          "data": {
            "text/plain": [
              "<sklearn.metrics._plot.confusion_matrix.ConfusionMatrixDisplay at 0x7e3ab170ad10>"
            ]
          },
          "execution_count": 32,
          "metadata": {},
          "output_type": "execute_result"
        },
        {
          "data": {
            "image/png": "[encoded data removed]",
            "text/plain": [
              "<Figure size 640x480 with 2 Axes>"
            ]
          },
          "metadata": {},
          "output_type": "display_data"
        }
      ],
      "source": [
        "from sklearn.ensemble import RandomForestClassifier\n",
        "\n",
        "# Train model\n",
        "rf = RandomForestClassifier(n_estimators=100, max_depth=10)\n",
        "rf.fit(X_train, Y_train)\n",
        "\n",
        "# Evaluate model\n",
        "scores = cross_val_score(rf, X_test, Y_test, cv=5)\n",
        "print(\"Cross-validation scores:\", scores)\n",
        "\n",
        "# Test model\n",
        "Y_pred = rf.predict(X_test)\n",
        "\n",
        "cm = confusion_matrix(Y_test, Y_pred)\n",
        "disp = ConfusionMatrixDisplay(confusion_matrix=cm)\n",
        "disp.plot()"
      ]
    },
    {
      "cell_type": "code",
      "execution_count": 33,
      "metadata": {
        "colab": {
          "base_uri": "https://localhost:8080/"
        },
        "id": "HLD6FrVuoqF-",
        "outputId": "41f9f9f5-19e8-44dd-941b-51a11c48ed41"
      },
      "outputs": [
        {
          "name": "stdout",
          "output_type": "stream",
          "text": [
            "              precision    recall  f1-score   support\n",
            "\n",
            "           0       0.72      0.80      0.76        93\n",
            "           1       0.78      0.70      0.74        98\n",
            "\n",
            "    accuracy                           0.75       191\n",
            "   macro avg       0.75      0.75      0.75       191\n",
            "weighted avg       0.75      0.75      0.75       191\n",
            "\n"
          ]
        }
      ],
      "source": [
        "print(classification_report(Y_test, Y_pred))"
      ]
    },
    {
      "cell_type": "markdown",
      "metadata": {
        "id": "gJD8SCBSoqF-"
      },
      "source": [
        "# Bernoulli Naive Bayes"
      ]
    },
    {
      "cell_type": "code",
      "execution_count": 36,
      "metadata": {
        "colab": {
          "base_uri": "https://localhost:8080/",
          "height": 472
        },
        "id": "UChqYE-soqF_",
        "outputId": "966c1141-d6d0-4fb5-a92b-b80ce1a0b7d2"
      },
      "outputs": [
        {
          "data": {
            "text/plain": [
              "<sklearn.metrics._plot.confusion_matrix.ConfusionMatrixDisplay at 0x7e3a60b8f100>"
            ]
          },
          "execution_count": 36,
          "metadata": {},
          "output_type": "execute_result"
        },
        {
          "data": {
            "image/png": "[encoded data removed]",
            "text/plain": [
              "<Figure size 640x480 with 2 Axes>"
            ]
          },
          "metadata": {},
          "output_type": "display_data"
        }
      ],
      "source": [
        "from sklearn.naive_bayes import BernoulliNB\n",
        "from sklearn.model_selection import cross_val_score\n",
        "\n",
        "bnb = BernoulliNB()\n",
        "scores = cross_val_score(bnb, X_new, data[\"Purchased Bike\"], cv=5)\n",
        "# Sau khi đánh giá bằng cross-validation, có thể huấn luyện mô hình trên toàn bộ dữ liệu huấn luyện\n",
        "bnb.fit(X_new, data[\"Purchased Bike\"])\n",
        "# test model\n",
        "Y_pred = bnb.predict(X_test)\n",
        "\n",
        "cm = confusion_matrix(Y_test, Y_pred)\n",
        "disp = ConfusionMatrixDisplay(confusion_matrix=cm)\n",
        "disp.plot()"
      ]
    },
    {
      "cell_type": "code",
      "execution_count": 37,
      "metadata": {
        "colab": {
          "base_uri": "https://localhost:8080/"
        },
        "id": "v1Ax8dbZoqF_",
        "outputId": "5b7080b3-9498-46c4-913c-7671edeec0e7"
      },
      "outputs": [
        {
          "name": "stdout",
          "output_type": "stream",
          "text": [
            "              precision    recall  f1-score   support\n",
            "\n",
            "           0       0.58      0.75      0.66        93\n",
            "           1       0.68      0.49      0.57        98\n",
            "\n",
            "    accuracy                           0.62       191\n",
            "   macro avg       0.63      0.62      0.61       191\n",
            "weighted avg       0.63      0.62      0.61       191\n",
            "\n"
          ]
        }
      ],
      "source": [
        "print(classification_report(Y_test, Y_pred))"
      ]
    },
    {
      "cell_type": "markdown",
      "metadata": {
        "id": "JGRhdKq9oqF_"
      },
      "source": [
        "# Logistic Regession"
      ]
    },
    {
      "cell_type": "code",
      "execution_count": 38,
      "metadata": {
        "colab": {
          "base_uri": "https://localhost:8080/",
          "height": 466
        },
        "id": "kAxGa0qRoqF_",
        "outputId": "ec83bd15-9a97-41f1-a00e-cb5078de8801"
      },
      "outputs": [
        {
          "data": {
            "text/plain": [
              "<sklearn.metrics._plot.confusion_matrix.ConfusionMatrixDisplay at 0x7e3a60c5d900>"
            ]
          },
          "execution_count": 38,
          "metadata": {},
          "output_type": "execute_result"
        },
        {
          "data": {
            "image/png": "[encoded data removed]",
            "text/plain": [
              "<Figure size 640x480 with 2 Axes>"
            ]
          },
          "metadata": {},
          "output_type": "display_data"
        }
      ],
      "source": [
        "from sklearn.linear_model import LogisticRegression\n",
        "model = LogisticRegression()\n",
        "model.fit(X_train, Y_train)\n",
        "\n",
        "Y_pred = model.predict(X_test)\n",
        "\n",
        "cm = confusion_matrix(Y_test, Y_pred)\n",
        "disp = ConfusionMatrixDisplay(confusion_matrix=cm)\n",
        "disp.plot()"
      ]
    },
    {
      "cell_type": "code",
      "execution_count": 39,
      "metadata": {
        "colab": {
          "base_uri": "https://localhost:8080/"
        },
        "id": "k2BC2qL-oqF_",
        "outputId": "5ae25e6b-ca67-4133-b449-350da16b3f8e"
      },
      "outputs": [
        {
          "name": "stdout",
          "output_type": "stream",
          "text": [
            "              precision    recall  f1-score   support\n",
            "\n",
            "           0       0.56      0.71      0.63        93\n",
            "           1       0.64      0.48      0.55        98\n",
            "\n",
            "    accuracy                           0.59       191\n",
            "   macro avg       0.60      0.59      0.59       191\n",
            "weighted avg       0.60      0.59      0.59       191\n",
            "\n"
          ]
        }
      ],
      "source": [
        "print(classification_report(Y_test, Y_pred))"
      ]
    },
    {
      "cell_type": "markdown",
      "metadata": {
        "id": "NVKEW2gUoqGA"
      },
      "source": [
        "# Ensamble"
      ]
    },
    {
      "cell_type": "markdown",
      "metadata": {
        "id": "PuzkgjCooqGA"
      },
      "source": [
        "* Bagging (Tăng số lượng estimator)"
      ]
    },
    {
      "cell_type": "code",
      "execution_count": 42,
      "metadata": {
        "colab": {
          "base_uri": "https://localhost:8080/",
          "height": 466
        },
        "id": "2k4TjmEnoqGA",
        "outputId": "e85e0345-20c6-4f98-ead3-b01b4cca8b57"
      },
      "outputs": [
        {
          "data": {
            "text/plain": [
              "<sklearn.metrics._plot.confusion_matrix.ConfusionMatrixDisplay at 0x7e3a60c5cd30>"
            ]
          },
          "execution_count": 42,
          "metadata": {},
          "output_type": "execute_result"
        },
        {
          "data": {
            "image/png": "[encoded data removed]",
            "text/plain": [
              "<Figure size 640x480 with 2 Axes>"
            ]
          },
          "metadata": {},
          "output_type": "display_data"
        }
      ],
      "source": [
        "from sklearn.ensemble import BaggingClassifier\n",
        "\n",
        "clf = BaggingClassifier(estimator=DecisionTreeClassifier(),\n",
        "                        n_estimators=100, random_state=0).fit(X_train, Y_train)\n",
        "Y_pred = clf.predict(X_test)\n",
        "\n",
        "cm = confusion_matrix(Y_test, Y_pred)\n",
        "disp = ConfusionMatrixDisplay(confusion_matrix=cm)\n",
        "disp.plot()"
      ]
    },
    {
      "cell_type": "code",
      "execution_count": 43,
      "metadata": {
        "colab": {
          "base_uri": "https://localhost:8080/"
        },
        "id": "oFhuEzknoqGA",
        "outputId": "ad0f5639-3b09-4e86-d94a-abf0cc256c51"
      },
      "outputs": [
        {
          "name": "stdout",
          "output_type": "stream",
          "text": [
            "              precision    recall  f1-score   support\n",
            "\n",
            "           0       0.68      0.76      0.72        93\n",
            "           1       0.75      0.66      0.70        98\n",
            "\n",
            "    accuracy                           0.71       191\n",
            "   macro avg       0.71      0.71      0.71       191\n",
            "weighted avg       0.72      0.71      0.71       191\n",
            "\n"
          ]
        }
      ],
      "source": [
        "print(classification_report(Y_test, Y_pred))"
      ]
    },
    {
      "cell_type": "markdown",
      "metadata": {
        "id": "1PksfTtkoqGI"
      },
      "source": [
        "* GradientBoosting (GradientBoostingClassifer + subsample + GridSearchCV)"
      ]
    },
    {
      "cell_type": "code",
      "execution_count": 44,
      "metadata": {
        "colab": {
          "base_uri": "https://localhost:8080/",
          "height": 484
        },
        "id": "wMZ1NhvnoqGJ",
        "outputId": "7aacc687-c5de-4dfb-e2fd-6c14569a39dd"
      },
      "outputs": [
        {
          "name": "stdout",
          "output_type": "stream",
          "text": [
            "Best parameters: {'learning_rate': 0.05, 'max_depth': 4, 'n_estimators': 100, 'subsample': 0.7}\n"
          ]
        },
        {
          "data": {
            "text/plain": [
              "<sklearn.metrics._plot.confusion_matrix.ConfusionMatrixDisplay at 0x7e3a608b2740>"
            ]
          },
          "execution_count": 44,
          "metadata": {},
          "output_type": "execute_result"
        },
        {
          "data": {
            "image/png": "[encoded data removed]",
            "text/plain": [
              "<Figure size 640x480 with 2 Axes>"
            ]
          },
          "metadata": {},
          "output_type": "display_data"
        }
      ],
      "source": [
        "from sklearn.ensemble import GradientBoostingClassifier\n",
        "from sklearn.model_selection import GridSearchCV\n",
        "\n",
        "# Tạo grid các siêu tham số để thử nghiệm\n",
        "param_grid = {\n",
        "    \"learning_rate\": [0.05, 0.1],\n",
        "    \"max_depth\": [3, 4],\n",
        "    \"n_estimators\": [100, 200],\n",
        "    \"subsample\": [0.7, 0.8]\n",
        "}\n",
        "\n",
        "# Tìm cấu hình tốt nhất bằng GridSearchCV\n",
        "grid_search = GridSearchCV(GradientBoostingClassifier(random_state=0), param_grid, cv=3, n_jobs=-1)\n",
        "grid_search.fit(X_train, Y_train)\n",
        "best_params = grid_search.best_params_\n",
        "print(\"Best parameters:\", best_params)\n",
        "\n",
        "clf = GradientBoostingClassifier(**best_params, random_state=0)\n",
        "clf.fit(X_train, Y_train)\n",
        "Y_pred = clf.predict(X_test)\n",
        "accuracy = accuracy_score(Y_test, Y_pred)\n",
        "\n",
        "cm = confusion_matrix(Y_test, Y_pred)\n",
        "disp = ConfusionMatrixDisplay(confusion_matrix=cm)\n",
        "disp.plot()"
      ]
    },
    {
      "cell_type": "code",
      "execution_count": 45,
      "metadata": {
        "colab": {
          "base_uri": "https://localhost:8080/"
        },
        "id": "yrG6_wrLoqGJ",
        "outputId": "cfe953ea-c616-437e-e6e8-4761d3d34baa"
      },
      "outputs": [
        {
          "name": "stdout",
          "output_type": "stream",
          "text": [
            "              precision    recall  f1-score   support\n",
            "\n",
            "           0       0.69      0.76      0.72        93\n",
            "           1       0.75      0.67      0.71        98\n",
            "\n",
            "    accuracy                           0.72       191\n",
            "   macro avg       0.72      0.72      0.72       191\n",
            "weighted avg       0.72      0.72      0.72       191\n",
            "\n"
          ]
        }
      ],
      "source": [
        "print(classification_report(Y_test, Y_pred))"
      ]
    },
    {
      "cell_type": "markdown",
      "metadata": {
        "id": "tEtuvKGloqGJ"
      },
      "source": [
        "* Stack"
      ]
    },
    {
      "cell_type": "code",
      "execution_count": 46,
      "metadata": {
        "colab": {
          "base_uri": "https://localhost:8080/",
          "height": 466
        },
        "id": "6psKdfR8oqGJ",
        "outputId": "62138e91-abfb-4240-9d72-61b96a0121f9"
      },
      "outputs": [
        {
          "data": {
            "text/plain": [
              "<sklearn.metrics._plot.confusion_matrix.ConfusionMatrixDisplay at 0x7e3ab15d97b0>"
            ]
          },
          "execution_count": 46,
          "metadata": {},
          "output_type": "execute_result"
        },
        {
          "data": {
            "image/png": "[encoded data removed]",
            "text/plain": [
              "<Figure size 640x480 with 2 Axes>"
            ]
          },
          "metadata": {},
          "output_type": "display_data"
        }
      ],
      "source": [
        "from sklearn.ensemble import StackingClassifier\n",
        "from sklearn.svm import SVC\n",
        "\n",
        "layer = list()\n",
        "\n",
        "layer.append(('dt', DecisionTreeClassifier()))\n",
        "layer.append(('bnb', BernoulliNB()))\n",
        "layer.append(('svc', SVC()))\n",
        "\n",
        "finalLayer = LogisticRegression()\n",
        "\n",
        "model = StackingClassifier(estimators=layer, final_estimator=finalLayer, cv=5)\n",
        "model.fit(X_train, Y_train)\n",
        "\n",
        "Y_pred = model.predict(X_test)\n",
        "Y_pred_train = model.predict(X_train)\n",
        "\n",
        "cm = confusion_matrix(Y_test, Y_pred)\n",
        "disp = ConfusionMatrixDisplay(confusion_matrix=cm)\n",
        "disp.plot()"
      ]
    },
    {
      "cell_type": "code",
      "execution_count": 47,
      "metadata": {
        "colab": {
          "base_uri": "https://localhost:8080/"
        },
        "id": "Fr5yHMjzoqGJ",
        "outputId": "aef6ad39-bff9-473e-91f3-0da520858041"
      },
      "outputs": [
        {
          "name": "stdout",
          "output_type": "stream",
          "text": [
            "              precision    recall  f1-score   support\n",
            "\n",
            "           0       0.67      0.78      0.72        93\n",
            "           1       0.76      0.63      0.69        98\n",
            "\n",
            "    accuracy                           0.71       191\n",
            "   macro avg       0.71      0.71      0.71       191\n",
            "weighted avg       0.71      0.71      0.71       191\n",
            "\n"
          ]
        }
      ],
      "source": [
        "print(classification_report(Y_test, Y_pred))"
      ]
    }
  ],
  "metadata": {
    "colab": {
      "provenance": []
    },
    "kernelspec": {
      "display_name": "Python 3.11.0 64-bit",
      "language": "python",
      "name": "python3"
    },
    "language_info": {
      "codemirror_mode": {
        "name": "ipython",
        "version": 3
      },
      "file_extension": ".py",
      "mimetype": "text/x-python",
      "name": "python",
      "nbconvert_exporter": "python",
      "pygments_lexer": "ipython3",
      "version": "3.11.0"
    },
    "orig_nbformat": 4,
    "vscode": {
      "interpreter": {
        "hash": "ff4b1fca65a764b45acb559e482afe389d289dd599b9f8c5fd12ff5c2ea46a65"
      }
    }
  },
  "nbformat": 4,
  "nbformat_minor": 0
}
