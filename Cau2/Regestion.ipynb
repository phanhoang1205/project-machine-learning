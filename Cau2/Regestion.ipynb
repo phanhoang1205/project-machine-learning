{
 "cells": [
  {
   "cell_type": "markdown",
   "metadata": {},
   "source": [
    "* MSV_HoVaTen:\n",
    "521H0501_Phan Minh Hoàng,\n",
    "521H0398_Lê Nguyễn Viết Hiệp,\n",
    "521H0276_Trang Sĩ Nam\n",
    "\n"
   ]
  },
  {
   "cell_type": "code",
   "execution_count": 43,
   "metadata": {},
   "outputs": [],
   "source": [
    "import pandas as pd\n",
    "import numpy as np\n",
    "import matplotlib.pyplot as plt\n",
    "import seaborn as sns"
   ]
  },
  {
   "cell_type": "code",
   "execution_count": 44,
   "metadata": {},
   "outputs": [],
   "source": [
    "# Read data from csv file\n",
    "data = pd.read_csv('American_Housing_Data_20231209.csv')"
   ]
  },
  {
   "cell_type": "code",
   "execution_count": 45,
   "metadata": {},
   "outputs": [
    {
     "data": {
      "text/plain": [
       "(39981, 14)"
      ]
     },
     "execution_count": 45,
     "metadata": {},
     "output_type": "execute_result"
    }
   ],
   "source": [
    "# Toltal row, column in dataset\n",
    "data.shape"
   ]
  },
  {
   "cell_type": "code",
   "execution_count": 46,
   "metadata": {},
   "outputs": [
    {
     "data": {
      "text/html": [
       "<div>\n",
       "<style scoped>\n",
       "    .dataframe tbody tr th:only-of-type {\n",
       "        vertical-align: middle;\n",
       "    }\n",
       "\n",
       "    .dataframe tbody tr th {\n",
       "        vertical-align: top;\n",
       "    }\n",
       "\n",
       "    .dataframe thead th {\n",
       "        text-align: right;\n",
       "    }\n",
       "</style>\n",
       "<table border=\"1\" class=\"dataframe\">\n",
       "  <thead>\n",
       "    <tr style=\"text-align: right;\">\n",
       "      <th></th>\n",
       "      <th>Zip Code</th>\n",
       "      <th>Price</th>\n",
       "      <th>Beds</th>\n",
       "      <th>Baths</th>\n",
       "      <th>Living Space</th>\n",
       "      <th>Zip Code Population</th>\n",
       "      <th>Zip Code Density</th>\n",
       "      <th>Median Household Income</th>\n",
       "      <th>Latitude</th>\n",
       "      <th>Longitude</th>\n",
       "    </tr>\n",
       "  </thead>\n",
       "  <tbody>\n",
       "    <tr>\n",
       "      <th>count</th>\n",
       "      <td>39981.000000</td>\n",
       "      <td>3.998100e+04</td>\n",
       "      <td>39981.000000</td>\n",
       "      <td>39981.000000</td>\n",
       "      <td>39981.000000</td>\n",
       "      <td>39981.000000</td>\n",
       "      <td>39981.000000</td>\n",
       "      <td>39979.000000</td>\n",
       "      <td>39981.000000</td>\n",
       "      <td>39981.000000</td>\n",
       "    </tr>\n",
       "    <tr>\n",
       "      <th>mean</th>\n",
       "      <td>64833.391336</td>\n",
       "      <td>6.227771e+05</td>\n",
       "      <td>3.171682</td>\n",
       "      <td>2.466572</td>\n",
       "      <td>1901.522723</td>\n",
       "      <td>37726.201996</td>\n",
       "      <td>2379.412483</td>\n",
       "      <td>110837.259861</td>\n",
       "      <td>36.435668</td>\n",
       "      <td>-98.080576</td>\n",
       "    </tr>\n",
       "    <tr>\n",
       "      <th>std</th>\n",
       "      <td>25614.601116</td>\n",
       "      <td>9.469793e+05</td>\n",
       "      <td>1.308796</td>\n",
       "      <td>1.323042</td>\n",
       "      <td>1211.307257</td>\n",
       "      <td>18672.647445</td>\n",
       "      <td>2946.574792</td>\n",
       "      <td>47309.055715</td>\n",
       "      <td>4.446862</td>\n",
       "      <td>15.061145</td>\n",
       "    </tr>\n",
       "    <tr>\n",
       "      <th>min</th>\n",
       "      <td>10013.000000</td>\n",
       "      <td>1.800000e+03</td>\n",
       "      <td>1.000000</td>\n",
       "      <td>1.000000</td>\n",
       "      <td>2.000000</td>\n",
       "      <td>0.000000</td>\n",
       "      <td>0.000000</td>\n",
       "      <td>27475.000000</td>\n",
       "      <td>25.729830</td>\n",
       "      <td>-122.826870</td>\n",
       "    </tr>\n",
       "    <tr>\n",
       "      <th>25%</th>\n",
       "      <td>40215.000000</td>\n",
       "      <td>2.650000e+05</td>\n",
       "      <td>3.000000</td>\n",
       "      <td>2.000000</td>\n",
       "      <td>1200.000000</td>\n",
       "      <td>24465.000000</td>\n",
       "      <td>902.400000</td>\n",
       "      <td>76640.000000</td>\n",
       "      <td>33.239850</td>\n",
       "      <td>-111.636310</td>\n",
       "    </tr>\n",
       "    <tr>\n",
       "      <th>50%</th>\n",
       "      <td>74136.000000</td>\n",
       "      <td>3.999000e+05</td>\n",
       "      <td>3.000000</td>\n",
       "      <td>2.000000</td>\n",
       "      <td>1639.000000</td>\n",
       "      <td>35049.000000</td>\n",
       "      <td>1588.700000</td>\n",
       "      <td>100405.000000</td>\n",
       "      <td>36.166620</td>\n",
       "      <td>-96.839680</td>\n",
       "    </tr>\n",
       "    <tr>\n",
       "      <th>75%</th>\n",
       "      <td>85730.000000</td>\n",
       "      <td>6.749900e+05</td>\n",
       "      <td>4.000000</td>\n",
       "      <td>3.000000</td>\n",
       "      <td>2265.000000</td>\n",
       "      <td>46816.000000</td>\n",
       "      <td>2736.800000</td>\n",
       "      <td>135075.000000</td>\n",
       "      <td>39.283090</td>\n",
       "      <td>-85.656980</td>\n",
       "    </tr>\n",
       "    <tr>\n",
       "      <th>max</th>\n",
       "      <td>98199.000000</td>\n",
       "      <td>3.800000e+07</td>\n",
       "      <td>54.000000</td>\n",
       "      <td>66.000000</td>\n",
       "      <td>74340.000000</td>\n",
       "      <td>116469.000000</td>\n",
       "      <td>58289.600000</td>\n",
       "      <td>900203.000000</td>\n",
       "      <td>47.742370</td>\n",
       "      <td>-73.704510</td>\n",
       "    </tr>\n",
       "  </tbody>\n",
       "</table>\n",
       "</div>"
      ],
      "text/plain": [
       "           Zip Code         Price          Beds         Baths  Living Space  \\\n",
       "count  39981.000000  3.998100e+04  39981.000000  39981.000000  39981.000000   \n",
       "mean   64833.391336  6.227771e+05      3.171682      2.466572   1901.522723   \n",
       "std    25614.601116  9.469793e+05      1.308796      1.323042   1211.307257   \n",
       "min    10013.000000  1.800000e+03      1.000000      1.000000      2.000000   \n",
       "25%    40215.000000  2.650000e+05      3.000000      2.000000   1200.000000   \n",
       "50%    74136.000000  3.999000e+05      3.000000      2.000000   1639.000000   \n",
       "75%    85730.000000  6.749900e+05      4.000000      3.000000   2265.000000   \n",
       "max    98199.000000  3.800000e+07     54.000000     66.000000  74340.000000   \n",
       "\n",
       "       Zip Code Population  Zip Code Density  Median Household Income  \\\n",
       "count         39981.000000      39981.000000             39979.000000   \n",
       "mean          37726.201996       2379.412483            110837.259861   \n",
       "std           18672.647445       2946.574792             47309.055715   \n",
       "min               0.000000          0.000000             27475.000000   \n",
       "25%           24465.000000        902.400000             76640.000000   \n",
       "50%           35049.000000       1588.700000            100405.000000   \n",
       "75%           46816.000000       2736.800000            135075.000000   \n",
       "max          116469.000000      58289.600000            900203.000000   \n",
       "\n",
       "           Latitude     Longitude  \n",
       "count  39981.000000  39981.000000  \n",
       "mean      36.435668    -98.080576  \n",
       "std        4.446862     15.061145  \n",
       "min       25.729830   -122.826870  \n",
       "25%       33.239850   -111.636310  \n",
       "50%       36.166620    -96.839680  \n",
       "75%       39.283090    -85.656980  \n",
       "max       47.742370    -73.704510  "
      ]
     },
     "execution_count": 46,
     "metadata": {},
     "output_type": "execute_result"
    }
   ],
   "source": [
    "data.describe()"
   ]
  },
  {
   "cell_type": "code",
   "execution_count": 47,
   "metadata": {},
   "outputs": [
    {
     "name": "stdout",
     "output_type": "stream",
     "text": [
      "<class 'pandas.core.frame.DataFrame'>\n",
      "Index: 39979 entries, 0 to 39980\n",
      "Data columns (total 14 columns):\n",
      " #   Column                   Non-Null Count  Dtype  \n",
      "---  ------                   --------------  -----  \n",
      " 0   Zip Code                 39979 non-null  int64  \n",
      " 1   Price                    39979 non-null  float64\n",
      " 2   Beds                     39979 non-null  int64  \n",
      " 3   Baths                    39979 non-null  int64  \n",
      " 4   Living Space             39979 non-null  int64  \n",
      " 5   Address                  39979 non-null  object \n",
      " 6   City                     39979 non-null  object \n",
      " 7   State                    39979 non-null  object \n",
      " 8   Zip Code Population      39979 non-null  int64  \n",
      " 9   Zip Code Density         39979 non-null  float64\n",
      " 10  County                   39979 non-null  object \n",
      " 11  Median Household Income  39979 non-null  float64\n",
      " 12  Latitude                 39979 non-null  float64\n",
      " 13  Longitude                39979 non-null  float64\n",
      "dtypes: float64(5), int64(5), object(4)\n",
      "memory usage: 4.6+ MB\n"
     ]
    }
   ],
   "source": [
    "data = data.dropna()\n",
    "data.info()"
   ]
  },
  {
   "cell_type": "code",
   "execution_count": 48,
   "metadata": {},
   "outputs": [
    {
     "data": {
      "text/plain": [
       "False    39017\n",
       "True       962\n",
       "Name: count, dtype: int64"
      ]
     },
     "execution_count": 48,
     "metadata": {},
     "output_type": "execute_result"
    }
   ],
   "source": [
    "# Check duplicate\n",
    "data.duplicated().value_counts()"
   ]
  },
  {
   "cell_type": "code",
   "execution_count": 49,
   "metadata": {},
   "outputs": [
    {
     "data": {
      "text/plain": [
       "(39017, 14)"
      ]
     },
     "execution_count": 49,
     "metadata": {},
     "output_type": "execute_result"
    }
   ],
   "source": [
    "data = data.drop_duplicates()\n",
    "data.shape"
   ]
  },
  {
   "cell_type": "markdown",
   "metadata": {},
   "source": [
    "# Transformation"
   ]
  },
  {
   "cell_type": "code",
   "execution_count": 50,
   "metadata": {},
   "outputs": [
    {
     "name": "stdout",
     "output_type": "stream",
     "text": [
      "(39017, 14)\n"
     ]
    }
   ],
   "source": [
    "# Tranform data\n",
    "from sklearn.preprocessing import LabelEncoder\n",
    "\n",
    "types = data.dtypes\n",
    "names = list(data.columns)\n",
    "\n",
    "le = LabelEncoder()\n",
    "for i in range(len(types)):\n",
    "    if types.iloc[i]=='object':\n",
    "        le.fit_transform(data[names[i]])\n",
    "        data[names[i]] = le.transform(data[names[i]])\n",
    "print(data.shape)"
   ]
  },
  {
   "cell_type": "markdown",
   "metadata": {},
   "source": [
    "# Normalization"
   ]
  },
  {
   "cell_type": "code",
   "execution_count": 51,
   "metadata": {},
   "outputs": [],
   "source": [
    "from sklearn.preprocessing import MinMaxScaler\n",
    "features = data.drop(['Price'], axis=1)\n",
    "\n",
    "scaler = MinMaxScaler()\n",
    "model=scaler.fit(features)\n",
    "scaled_data= pd.DataFrame(model.transform(features))"
   ]
  },
  {
   "cell_type": "markdown",
   "metadata": {},
   "source": [
    "# Feature Selection"
   ]
  },
  {
   "cell_type": "code",
   "execution_count": 52,
   "metadata": {},
   "outputs": [],
   "source": [
    "X = scaled_data\n",
    "y = data['Price']"
   ]
  },
  {
   "cell_type": "code",
   "execution_count": 53,
   "metadata": {},
   "outputs": [
    {
     "data": {
      "text/plain": [
       "(39017, 9)"
      ]
     },
     "execution_count": 53,
     "metadata": {},
     "output_type": "execute_result"
    }
   ],
   "source": [
    "from sklearn.feature_selection import SelectKBest, f_regression\n",
    "select_feature =  SelectKBest(score_func=f_regression, k = 9)\n",
    "f_best = select_feature.fit(X, y)               \n",
    "X_new = f_best.transform(X)\n",
    "X_new.shape"
   ]
  },
  {
   "cell_type": "code",
   "execution_count": 54,
   "metadata": {},
   "outputs": [],
   "source": [
    "from sklearn.model_selection import train_test_split\n",
    "from sklearn.metrics import mean_squared_error, r2_score\n",
    "from sklearn.metrics import confusion_matrix, ConfusionMatrixDisplay\n",
    "from sklearn.metrics import classification_report\n",
    "\n",
    "X_train, X_test, Y_train, Y_test = train_test_split(X_new, y, random_state = 42, test_size=0.2)"
   ]
  },
  {
   "cell_type": "markdown",
   "metadata": {},
   "source": [
    "# K Nearest Neighbour"
   ]
  },
  {
   "cell_type": "code",
   "execution_count": 55,
   "metadata": {},
   "outputs": [
    {
     "name": "stdout",
     "output_type": "stream",
     "text": [
      "Mean Square Error:  349998057586.45056\n",
      "R2 Score:  0.6457259451401118\n"
     ]
    }
   ],
   "source": [
    "# Train model\n",
    "from sklearn.neighbors import KNeighborsRegressor\n",
    "KNN = KNeighborsRegressor(n_neighbors = 5, p=2, metric='euclidean')\n",
    "KNN.fit(X_train, Y_train)\n",
    "\n",
    "# test model\n",
    "Y_pred = KNN.predict(X_test)\n",
    "\n",
    "r2 = r2_score(Y_test, Y_pred)\n",
    "MSE = mean_squared_error(Y_test, Y_pred)\n",
    "print(\"Mean Square Error: \",MSE)\n",
    "print(\"R2 Score: \",r2)"
   ]
  },
  {
   "cell_type": "markdown",
   "metadata": {},
   "source": [
    "# Linear Regression"
   ]
  },
  {
   "cell_type": "code",
   "execution_count": 56,
   "metadata": {},
   "outputs": [
    {
     "name": "stdout",
     "output_type": "stream",
     "text": [
      "Mean Square Error:  556163804255.0157\n",
      "R2 Score:  0.43704142971977067\n"
     ]
    }
   ],
   "source": [
    "# Train model\n",
    "from sklearn.linear_model import LinearRegression\n",
    "LR = LinearRegression().fit(X_train,Y_train)\n",
    "\n",
    "# Test Model\n",
    "Y_pred = LR.predict(X_test)\n",
    "\n",
    "r2 = r2_score(Y_test, Y_pred)\n",
    "MSE = mean_squared_error(Y_test, Y_pred)\n",
    "print(\"Mean Square Error: \",MSE)\n",
    "print(\"R2 Score: \",r2)"
   ]
  },
  {
   "cell_type": "markdown",
   "metadata": {},
   "source": [
    "# Desision Tree"
   ]
  },
  {
   "cell_type": "code",
   "execution_count": 60,
   "metadata": {},
   "outputs": [
    {
     "name": "stdout",
     "output_type": "stream",
     "text": [
      "Mean Square Error:  462132621439.1699\n",
      "R2 Score:  0.5322214105721295\n"
     ]
    }
   ],
   "source": [
    "from sklearn.tree import DecisionTreeRegressor\n",
    "dTree = DecisionTreeRegressor(max_depth=5)\n",
    "dTree.fit(X_train, Y_train)\n",
    "\n",
    "Y_pred = dTree.predict(X_test)\n",
    "\n",
    "r2 = r2_score(Y_test, Y_pred)\n",
    "MSE = mean_squared_error(Y_test, Y_pred)\n",
    "print(\"Mean Square Error: \",MSE)\n",
    "print(\"R2 Score: \",r2)"
   ]
  }
 ],
 "metadata": {
  "kernelspec": {
   "display_name": "Python 3.11.0 64-bit",
   "language": "python",
   "name": "python3"
  },
  "language_info": {
   "codemirror_mode": {
    "name": "ipython",
    "version": 3
   },
   "file_extension": ".py",
   "mimetype": "text/x-python",
   "name": "python",
   "nbconvert_exporter": "python",
   "pygments_lexer": "ipython3",
   "version": "3.11.0"
  },
  "orig_nbformat": 4,
  "vscode": {
   "interpreter": {
    "hash": "ff4b1fca65a764b45acb559e482afe389d289dd599b9f8c5fd12ff5c2ea46a65"
   }
  }
 },
 "nbformat": 4,
 "nbformat_minor": 2
}
